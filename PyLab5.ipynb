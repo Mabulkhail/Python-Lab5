{
 "cells": [
  {
   "cell_type": "code",
   "execution_count": 16,
   "id": "209b2bb9",
   "metadata": {},
   "outputs": [
    {
     "name": "stdout",
     "output_type": "stream",
     "text": [
      "The Sum of numbers: 139\n"
     ]
    }
   ],
   "source": [
    "lst = [5, 4, 17, 19, 30, 2, 7, 10, 45]\n",
    "lst_sum = sum(lst)\n",
    "print(f\"The Sum of numbers: {lst_sum}\")"
   ]
  },
  {
   "cell_type": "code",
   "execution_count": 22,
   "id": "8acf75ba",
   "metadata": {},
   "outputs": [
    {
     "name": "stdout",
     "output_type": "stream",
     "text": [
      "The Maximum number is 45\n"
     ]
    }
   ],
   "source": [
    "lst_max = max(lst)\n",
    "print(f\"The Maximum number is {lst_max}\")"
   ]
  },
  {
   "cell_type": "code",
   "execution_count": 19,
   "id": "ea232b01",
   "metadata": {},
   "outputs": [
    {
     "name": "stdout",
     "output_type": "stream",
     "text": [
      "Even number list are: [4, 30, 2, 10]\n"
     ]
    }
   ],
   "source": [
    "even_numbers = [x for x in lst if x % 2 == 0]\n",
    "print(f\"Even number list are: {even_numbers}\")"
   ]
  },
  {
   "cell_type": "code",
   "execution_count": 21,
   "id": "4dee0761",
   "metadata": {},
   "outputs": [
    {
     "name": "stdout",
     "output_type": "stream",
     "text": [
      "New list starts from ist item to  5th item:\n",
      " [5, 4, 17, 19, 30]\n"
     ]
    }
   ],
   "source": [
    "new_lst =lst[0:5]\n",
    "print(f\"New list starts from ist item to  5th item:\\n {new_lst}\")"
   ]
  }
 ],
 "metadata": {
  "kernelspec": {
   "display_name": "Python 3 (ipykernel)",
   "language": "python",
   "name": "python3"
  },
  "language_info": {
   "codemirror_mode": {
    "name": "ipython",
    "version": 3
   },
   "file_extension": ".py",
   "mimetype": "text/x-python",
   "name": "python",
   "nbconvert_exporter": "python",
   "pygments_lexer": "ipython3",
   "version": "3.11.3"
  }
 },
 "nbformat": 4,
 "nbformat_minor": 5
}
